{
 "cells": [
  {
   "cell_type": "code",
   "execution_count": 62,
   "metadata": {},
   "outputs": [],
   "source": [
    "\"\"\"\n",
    "\n",
    "author: gsbhatia@umich.edu\n",
    "task: network firewall to access to packets\n",
    "illumino coding task\n",
    "\n",
    "\"\"\"\n",
    "\n",
    "import csv\n",
    "from netaddr import IPNetwork, IPAddress\n",
    "\n",
    "class Firewall:\n",
    "\n",
    "    def __init__(self, csv_file_path):\n",
    "        self.rules = csv.reader(open(csv_file_path,'r'))\n",
    "                        \n",
    "    def access_packets(self, direction, protocol, port, ip_address):                      \n",
    "        '''\n",
    "            function for access / block network packets based on rules\n",
    "            input:\n",
    "                direction (string)   : inbound or outbound\n",
    "                protocol (string)    : tcp or udp\n",
    "                port (integer)       : [1,65535]\n",
    "                ip_address (integer) : ip_v4 address\n",
    "            output:\n",
    "                True  --> packet accepted\n",
    "                False --> packet rejected\n",
    "        ''' \n",
    "        status = False\n",
    "        for rule in self.rules:\n",
    "            print(rule)\n",
    "            if(status):\n",
    "                break\n",
    "            if(rule[0] == direction):\n",
    "                if(rule[1] == protocol):\n",
    "                    if(self.check_port(rule[2],port)):\n",
    "                        if(self.check_ip(rule[3], ip_address)):\n",
    "                            status = True\n",
    "                        else:\n",
    "                            print(\"ip v4 check failed\", )\n",
    "                            status = False\n",
    "                            \n",
    "                    else:\n",
    "                        print(\"port check failed\")\n",
    "                        status = False\n",
    "                        continue\n",
    "                else:\n",
    "                    print(\"protocol check failed\", rule[1], \" \", port)\n",
    "                    status = False\n",
    "                    continue\n",
    "            else:\n",
    "                print(\" direction check failed\", rule[0], \" \", direction)\n",
    "                status= False\n",
    "                continue\n",
    "        return status\n",
    "                                \n",
    "    def check_port(self, port_rule, port_in):\n",
    "        '''\n",
    "            checks port is valid or not\n",
    "            input: \n",
    "                port_rule : either in singular or in range\n",
    "                port_in   : input port of the packet\n",
    "            output:\n",
    "                True / False\n",
    "        '''\n",
    "        status = False\n",
    "        if(\"-\" not in port_rule):\n",
    "            if(int(port_rule==port_in) == int(port_in)):\n",
    "                return True;\n",
    "            else:\n",
    "                return False;\n",
    "        port_min, port_max = port_rule.split(\"-\")\n",
    "        port_min  = int(port_min)\n",
    "        port_max  = int(port_max)\n",
    "        port_in = int(port_in)\n",
    "        if(port_in>= port_min and port_in <= port_max):\n",
    "            return True;\n",
    "        else:\n",
    "            return False\n",
    "                        \n",
    "    def check_ip(self, ip_rule, ip_in):\n",
    "        '''\n",
    "            checks ip address is valid or not\n",
    "            input: \n",
    "                ip_rule : either in singular or in range\n",
    "                ip_in   : input ip_v4_address of the packet\n",
    "            output:\n",
    "                True / False\n",
    "        '''\n",
    "        if(\"-\" not in port_rule):\n",
    "            if(int(port_rule==port_in) == int(port_in)):\n",
    "                return True;\n",
    "            else:\n",
    "                return False;\n",
    "        \n",
    "        start_ip,end_ip = ip_rule.split(\"-\")\n",
    "        start_ip = [int(x) for x in start_ip.split('.')]\n",
    "        end_ip   = [int(x) for x in end_ip.split('.')]\n",
    "        ip_in    = [int(x) for x in in_ip.split('.')]\n",
    "        \n",
    "        if(in_ip[0] >= start_ip[0] and in_ip[0] <= end_ip[0]):\n",
    "            if(in_ip[1] >= start_ip[1] and in_ip[1] <= end_ip[1]):\n",
    "                if(in_ip[2] >= start_ip[2] and in_ip[2] <= end_ip[2]):\n",
    "                    if(in_ip[3] >= start_ip[3] and in_ip[3] <= end_ip[3]):\n",
    "                        return True;\n",
    "                    else:\n",
    "                        return False\n",
    "                return False\n",
    "            return False\n",
    "        return False\n",
    "        "
   ]
  },
  {
   "cell_type": "code",
   "execution_count": 71,
   "metadata": {},
   "outputs": [],
   "source": [
    "firewall = Firewall(\"rules.csv\")"
   ]
  },
  {
   "cell_type": "code",
   "execution_count": 78,
   "metadata": {},
   "outputs": [
    {
     "data": {
      "text/plain": [
       "False"
      ]
     },
     "execution_count": 78,
     "metadata": {},
     "output_type": "execute_result"
    }
   ],
   "source": [
    "t2 = test_data[2].split(\",\")\n",
    "firewall.access_packets(t2[0],t2[1],t2[2],t2[3])"
   ]
  },
  {
   "cell_type": "code",
   "execution_count": 39,
   "metadata": {},
   "outputs": [
    {
     "data": {
      "text/plain": [
       "['inbound', 'tcp', '90', '192.168.1.2']"
      ]
     },
     "execution_count": 39,
     "metadata": {},
     "output_type": "execute_result"
    }
   ],
   "source": [
    "test_data[0][:]"
   ]
  },
  {
   "cell_type": "code",
   "execution_count": 77,
   "metadata": {},
   "outputs": [],
   "source": [
    "test_data = [\n",
    "    ['inbound','tcp','90','192.168.1.2'],\n",
    "    \"inbound,tcp,80,192.168.1.2\",\n",
    "    \"inbound,udp,53,192.168.3.1\"    \n",
    "]"
   ]
  },
  {
   "cell_type": "code",
   "execution_count": 70,
   "metadata": {},
   "outputs": [
    {
     "data": {
      "text/plain": [
       "[192, 168, 2, 1]"
      ]
     },
     "execution_count": 70,
     "metadata": {},
     "output_type": "execute_result"
    }
   ],
   "source": [
    "s = '192.168.2.1'.split('.')\n",
    "[int(x) for x in s]"
   ]
  },
  {
   "cell_type": "code",
   "execution_count": 66,
   "metadata": {},
   "outputs": [
    {
     "data": {
      "text/plain": [
       "'1000'"
      ]
     },
     "execution_count": 66,
     "metadata": {},
     "output_type": "execute_result"
    }
   ],
   "source": [
    "port_min"
   ]
  },
  {
   "cell_type": "code",
   "execution_count": null,
   "metadata": {},
   "outputs": [],
   "source": []
  }
 ],
 "metadata": {
  "kernelspec": {
   "display_name": "Python 3",
   "language": "python",
   "name": "python3"
  },
  "language_info": {
   "codemirror_mode": {
    "name": "ipython",
    "version": 3
   },
   "file_extension": ".py",
   "mimetype": "text/x-python",
   "name": "python",
   "nbconvert_exporter": "python",
   "pygments_lexer": "ipython3",
   "version": "3.7.4"
  }
 },
 "nbformat": 4,
 "nbformat_minor": 2
}
